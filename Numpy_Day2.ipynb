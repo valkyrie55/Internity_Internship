{
 "cells": [
  {
   "cell_type": "markdown",
   "metadata": {},
   "source": [
    "                           NUMPY ndarray\n",
    "A List is a python data structure that holds many python objects.It is flexible(can be filled with data of desired type).Numpy arrays lack flexibility but are much more efficient for storing and manipulating data.\n",
    "Numpy-Numerical python is the fundamental package for scientific computing with python . If you are going to work on data analysis or machine learning projects, then having a solid understanding of numpy is nearly mandatory.\n",
    "\n",
    "The key difference between an array and a list is, arrays are designed to handle vectorized operations while a python list is not.\n",
    "That means, if you apply a function it is performed on every item in the array, rather than on the whole array object.\n",
    "Numpy provides the excellent ndarray objects, short for n-dimensional arrays.\n",
    "In an ‘ndarray’ object we can store multiple items of the same data type."
   ]
  },
  {
   "cell_type": "code",
   "execution_count": null,
   "metadata": {},
   "outputs": [],
   "source": []
  },
  {
   "cell_type": "markdown",
   "metadata": {},
   "source": [
    "                Creating nd arrays"
   ]
  },
  {
   "cell_type": "code",
   "execution_count": null,
   "metadata": {},
   "outputs": [],
   "source": []
  },
  {
   "cell_type": "code",
   "execution_count": 3,
   "metadata": {},
   "outputs": [
    {
     "name": "stdout",
     "output_type": "stream",
     "text": [
      "[1, 2, 3, 4, 5]\n",
      "[1 2 3 4 5]\n",
      "Datatype of the ndarray:\n",
      "int32\n"
     ]
    }
   ],
   "source": [
    "#create a list\n",
    "import numpy as np\n",
    "l = [1,2,3,4,5]\n",
    "print(l)\n",
    "#create an ndarray through the list\n",
    "arr1 =np.array(l)\n",
    "print(arr1)\n",
    "print(\"Datatype of the ndarray:\")\n",
    "print(arr1.dtype)"
   ]
  },
  {
   "cell_type": "markdown",
   "metadata": {},
   "source": [
    "                   Data types for nd arrays\n",
    "NumPy supports a no. of numerical types. Some of them are:\n",
    "1. int8\n",
    "2. int16\n",
    "3. int32\n",
    "4. int64\n",
    "5. unit8\n",
    "6. unit16\n",
    "7. float16\n",
    "8. float32\n",
    "9. complex_\n",
    "10. float_"
   ]
  },
  {
   "cell_type": "code",
   "execution_count": null,
   "metadata": {},
   "outputs": [],
   "source": [
    "#Examples"
   ]
  },
  {
   "cell_type": "code",
   "execution_count": 4,
   "metadata": {},
   "outputs": [
    {
     "data": {
      "text/plain": [
       "dtype('int32')"
      ]
     },
     "execution_count": 4,
     "metadata": {},
     "output_type": "execute_result"
    }
   ],
   "source": [
    "a1 = np.array([1,2,3,4,5,6,7,8,9,10])\n",
    "a1.dtype"
   ]
  },
  {
   "cell_type": "code",
   "execution_count": 5,
   "metadata": {},
   "outputs": [
    {
     "data": {
      "text/plain": [
       "dtype('float64')"
      ]
     },
     "execution_count": 5,
     "metadata": {},
     "output_type": "execute_result"
    }
   ],
   "source": [
    "a2 = np.array([1.0,2,3,4,5,6,7,8,9,10])\n",
    "a2.dtype"
   ]
  },
  {
   "cell_type": "code",
   "execution_count": 7,
   "metadata": {},
   "outputs": [
    {
     "data": {
      "text/plain": [
       "dtype('<U1')"
      ]
     },
     "execution_count": 7,
     "metadata": {},
     "output_type": "execute_result"
    }
   ],
   "source": [
    "a3 = np.array(['a','b'])\n",
    "a3.dtype"
   ]
  },
  {
   "cell_type": "code",
   "execution_count": 9,
   "metadata": {},
   "outputs": [
    {
     "data": {
      "text/plain": [
       "dtype('float64')"
      ]
     },
     "execution_count": 9,
     "metadata": {},
     "output_type": "execute_result"
    }
   ],
   "source": [
    "#setting the data type\n",
    "a4 = np.array([1,2,3,4,5,6,7,8,9,10], dtype = np.float64)\n",
    "a4.dtype"
   ]
  },
  {
   "cell_type": "code",
   "execution_count": 11,
   "metadata": {},
   "outputs": [
    {
     "data": {
      "text/plain": [
       "dtype('int64')"
      ]
     },
     "execution_count": 11,
     "metadata": {},
     "output_type": "execute_result"
    }
   ],
   "source": [
    "a5 = np.array([1,2,3,4,5,6,7,8,9,10], dtype = np.int64)\n",
    "a5.dtype"
   ]
  },
  {
   "cell_type": "markdown",
   "metadata": {},
   "source": [
    "              Arithmetic with numpy arrays"
   ]
  },
  {
   "cell_type": "code",
   "execution_count": 12,
   "metadata": {},
   "outputs": [
    {
     "data": {
      "text/plain": [
       "array([ 2.,  4.,  6.,  8., 10., 12., 14., 16., 18., 20.])"
      ]
     },
     "execution_count": 12,
     "metadata": {},
     "output_type": "execute_result"
    }
   ],
   "source": [
    "b1= a1+a2\n",
    "b1"
   ]
  },
  {
   "cell_type": "code",
   "execution_count": 13,
   "metadata": {},
   "outputs": [
    {
     "data": {
      "text/plain": [
       "array([  1.,   4.,   9.,  16.,  25.,  36.,  49.,  64.,  81., 100.])"
      ]
     },
     "execution_count": 13,
     "metadata": {},
     "output_type": "execute_result"
    }
   ],
   "source": [
    "b2= a1*a2\n",
    "b2"
   ]
  },
  {
   "cell_type": "code",
   "execution_count": null,
   "metadata": {},
   "outputs": [],
   "source": []
  },
  {
   "cell_type": "markdown",
   "metadata": {},
   "source": [
    "                      Indexing and slicing\n",
    "Three types of indexing methods are available in numpy:\n",
    "1. field access\n",
    "2. basic slicing\n",
    "3. advanced indexing.\n",
    "\n",
    "If only one parameter is used, a single item corresponding to the index will be returned. If a ':' is inserted in front of it, all items from that index onwards will be extracted. If two parameters (with : between them) is used, items between the two indexes (not including the stop index) with default step one are sliced."
   ]
  },
  {
   "cell_type": "code",
   "execution_count": 15,
   "metadata": {
    "scrolled": true
   },
   "outputs": [
    {
     "name": "stdout",
     "output_type": "stream",
     "text": [
      "0\n",
      "[1 2 3 4 5 6 7 8]\n"
     ]
    }
   ],
   "source": [
    "a= np.arange(15)\n",
    "print(a[0])\n",
    "print(a[1:9])"
   ]
  },
  {
   "cell_type": "code",
   "execution_count": 16,
   "metadata": {},
   "outputs": [
    {
     "data": {
      "text/plain": [
       "array([ 0,  1,  2,  3,  4,  5,  6,  7,  8,  9, 10, 11, 12, 13])"
      ]
     },
     "execution_count": 16,
     "metadata": {},
     "output_type": "execute_result"
    }
   ],
   "source": [
    "a[0:-1]"
   ]
  },
  {
   "cell_type": "code",
   "execution_count": null,
   "metadata": {},
   "outputs": [],
   "source": []
  },
  {
   "cell_type": "markdown",
   "metadata": {},
   "source": [
    "Numpy supports lots of built in functions some of them are:\n",
    "1. String functions:\n",
    "a) add()\n",
    "b) lower()\n",
    "c) upper()\n",
    "d) split()\n",
    "e) join()\n",
    "\n",
    "2. Mathematical functions:\n",
    "a) sin()\n",
    "b) arcsin()\n",
    "c) degrees()\n",
    "d) around()\n",
    "e) floor()\n",
    "\n",
    "3. Statistical functions\n",
    "a) amin()\n",
    "b) amax()\n",
    "c) ptp()\n",
    "d) mean()\n",
    "e) median()"
   ]
  },
  {
   "cell_type": "code",
   "execution_count": 21,
   "metadata": {},
   "outputs": [
    {
     "name": "stdout",
     "output_type": "stream",
     "text": [
      "[   0    1    4    9   16   25   36   49   64   81  100  121  144  169\n",
      "  196  225  256  289  324  361  400  441  484  529  576  625  676  729\n",
      "  784  841  900  961 1024 1089 1156 1225 1296 1369 1444 1521 1600 1681\n",
      " 1764 1849 1936 2025 2116 2209 2304 2401 2500 2601 2704 2809 2916 3025\n",
      " 3136 3249 3364 3481 3600 3721 3844 3969 4096 4225 4356 4489 4624 4761\n",
      " 4900 5041 5184 5329 5476 5625 5776 5929 6084 6241 6400 6561 6724 6889\n",
      " 7056 7225 7396 7569 7744 7921 8100 8281 8464 8649 8836 9025 9216 9409\n",
      " 9604 9801]\n"
     ]
    }
   ],
   "source": [
    "import numpy as np \n",
    "arr = np.arange(100)\n",
    "arr = np.square(arr)\n",
    "print(arr)"
   ]
  },
  {
   "cell_type": "code",
   "execution_count": 22,
   "metadata": {},
   "outputs": [
    {
     "name": "stdout",
     "output_type": "stream",
     "text": [
      "mean() function:\n",
      "4.75\n",
      "average() function:\n",
      "7.0\n"
     ]
    }
   ],
   "source": [
    "arr = np.array([[1,2,3],[3,4,5],[4,5,6],[7,8,9]]) \n",
    "print('mean() function:') \n",
    "print(np.mean(arr) )\n",
    "print('average() function:') \n",
    "print(np.average(a))"
   ]
  },
  {
   "cell_type": "code",
   "execution_count": 23,
   "metadata": {},
   "outputs": [
    {
     "name": "stdout",
     "output_type": "stream",
     "text": [
      "sin() function:\n",
      "[[ 0.84147098  0.90929743  0.14112001]\n",
      " [ 0.14112001 -0.7568025  -0.95892427]\n",
      " [-0.7568025  -0.95892427 -0.2794155 ]\n",
      " [ 0.6569866   0.98935825  0.41211849]]\n"
     ]
    }
   ],
   "source": [
    "arr = np.array([[1,2,3],[3,4,5],[4,5,6],[7,8,9]]) \n",
    "print('sin() function:') \n",
    "print(np.sin(arr) )"
   ]
  },
  {
   "cell_type": "code",
   "execution_count": null,
   "metadata": {},
   "outputs": [],
   "source": []
  }
 ],
 "metadata": {
  "kernelspec": {
   "display_name": "Python 3",
   "language": "python",
   "name": "python3"
  },
  "language_info": {
   "codemirror_mode": {
    "name": "ipython",
    "version": 3
   },
   "file_extension": ".py",
   "mimetype": "text/x-python",
   "name": "python",
   "nbconvert_exporter": "python",
   "pygments_lexer": "ipython3",
   "version": "3.7.1"
  }
 },
 "nbformat": 4,
 "nbformat_minor": 2
}
